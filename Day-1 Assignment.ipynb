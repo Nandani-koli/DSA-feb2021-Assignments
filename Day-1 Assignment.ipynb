{
 "cells": [
  {
   "cell_type": "markdown",
   "metadata": {},
   "source": [
    "# ASSIGNMENT-1"
   ]
  },
  {
   "cell_type": "markdown",
   "metadata": {},
   "source": [
    "# Write a python program that takes two numbers as the input and print the result of Addition,Subtraction, Multiplication, Division of the two numbers"
   ]
  },
  {
   "cell_type": "code",
   "execution_count": 1,
   "metadata": {},
   "outputs": [
    {
     "name": "stdout",
     "output_type": "stream",
     "text": [
      "Enter first number: 12\n",
      "Enter second number: 2\n",
      "The sum of 12 and 2 is 14.0\n",
      "The subtraction of 12 and 2 is 10.0\n",
      "The multiplication of 12 and 2 is 24.0\n",
      "The division of 12 and 2 is 6.0\n"
     ]
    }
   ],
   "source": [
    "num1 = input('Enter first number: ')  \n",
    "num2 = input('Enter second number: ')  \n",
    "  \n",
    "# Add two numbers  \n",
    "sum = float(num1) + float(num2)  \n",
    "# Subtract two numbers  \n",
    "min = float(num1) - float(num2)  \n",
    "# Multiply two numbers  \n",
    "mul = float(num1) * float(num2)  \n",
    "#Divide two numbers  \n",
    "div = float(num1) / float(num2)  \n",
    "# Display the sum  \n",
    "print('The sum of {0} and {1} is {2}'.format(num1, num2, sum))  \n",
    "  \n",
    "# Display the subtraction  \n",
    "print('The subtraction of {0} and {1} is {2}'.format(num1, num2, min))  \n",
    "# Display the multiplication  \n",
    "print('The multiplication of {0} and {1} is {2}'.format(num1, num2, mul))  \n",
    "# Display the division  \n",
    "print('The division of {0} and {1} is {2}'.format(num1, num2, div))  "
   ]
  },
  {
   "cell_type": "markdown",
   "metadata": {},
   "source": [
    "# Write a python program that takes two numbers as the input such as X and Y and print the result of X^Y(X to the power of Y)"
   ]
  },
  {
   "cell_type": "code",
   "execution_count": 5,
   "metadata": {},
   "outputs": [
    {
     "name": "stdout",
     "output_type": "stream",
     "text": [
      "Enter first number: 2\n",
      "Enter second number: 4\n",
      "2 to the Power 4 = 16.0\n"
     ]
    }
   ],
   "source": [
    "import math\n",
    "x = int(input('Enter first number: ')) \n",
    "y = int(input('Enter second number: '))\n",
    "power = math.pow(x,y)  \n",
    "print(\"{0} to the Power {1} = {2}\".format(x,y, power))"
   ]
  },
  {
   "cell_type": "code",
   "execution_count": null,
   "metadata": {},
   "outputs": [],
   "source": []
  }
 ],
 "metadata": {
  "kernelspec": {
   "display_name": "Python 3",
   "language": "python",
   "name": "python3"
  },
  "language_info": {
   "codemirror_mode": {
    "name": "ipython",
    "version": 3
   },
   "file_extension": ".py",
   "mimetype": "text/x-python",
   "name": "python",
   "nbconvert_exporter": "python",
   "pygments_lexer": "ipython3",
   "version": "3.8.5"
  }
 },
 "nbformat": 4,
 "nbformat_minor": 4
}
